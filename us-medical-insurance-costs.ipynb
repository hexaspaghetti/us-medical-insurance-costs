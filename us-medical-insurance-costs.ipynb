{
 "cells": [
  {
   "cell_type": "markdown",
   "metadata": {},
   "source": [
    "# U.S. Medical Insurance Costs"
   ]
  },
  {
   "cell_type": "markdown",
   "metadata": {},
   "source": [
    "In this project, a CSV file containing patient insurance costs and patient data will be analyzed using Python. The goal will be to investigate the various characteristics of insurance.csv to obtain insight into how the various characteristics of patients relate to the price of their medical insurance costs."
   ]
  },
  {
   "cell_type": "markdown",
   "metadata": {},
   "source": [
    "## Code breakdown:"
   ]
  },
  {
   "cell_type": "code",
   "execution_count": null,
   "metadata": {},
   "outputs": [],
   "source": [
    "import csv"
   ]
  },
  {
   "cell_type": "markdown",
   "metadata": {},
   "source": [
    "The csv module will be necessary to analyze the file conveniently"
   ]
  },
  {
   "cell_type": "code",
   "execution_count": null,
   "metadata": {},
   "outputs": [],
   "source": [
    "def average_check(iterable, check, values_to_average):\n",
    "    # Take input list, range of values to accept check, and data to take\n",
    "    #  the average and return average.\n",
    "    total = 0\n",
    "    count = 0\n",
    "    zipped_data = zip(iterable, values_to_average)\n",
    "    for age, charge in zipped_data:\n",
    "        if age in check:\n",
    "            count += 1\n",
    "            total += charge\n",
    "    try:\n",
    "        return total/count\n",
    "    except:\n",
    "        return 0"
   ]
  },
  {
   "cell_type": "markdown",
   "metadata": {},
   "source": [
    "This function will take a section of data, check it against a provided filter, and retrieve the charges associated with each row. It will then return the average."
   ]
  },
  {
   "cell_type": "code",
   "execution_count": null,
   "metadata": {},
   "outputs": [],
   "source": [
    "def store_averages():\n",
    "    # Store average costs of ages\n",
    "    for start, end in zip(range(0, 80, 10), range(9, 80, 10)):\n",
    "        average_data['age_averages'].append(average_check(data['age'], list(range(start, end)),\n",
    "                                                          data['charges']))\n",
    "\n",
    "    # Store average costs of sexes\n",
    "    average_data['sex_averages'].append(\n",
    "        average_check(data['sex'], 'male', data['charges']))\n",
    "    average_data['sex_averages'].append(\n",
    "        average_check(data['sex'], 'female', data['charges']))\n",
    "\n",
    "    # Store average costs of bmi\n",
    "    for start, end in zip(range(20, 51, 10), range(30, 51, 10)):\n",
    "        average_data['bmi_averages'].append(average_check(\n",
    "            data['bmi'], list(range(start, end)), data['charges']))\n",
    "\n",
    "    # average costs of smoking status\n",
    "    average_data['smoking_averages'].append(average_check(\n",
    "        data['smoker'], 'yes', data['charges']))\n",
    "    average_data['smoking_averages'].append(average_check(\n",
    "        data['smoker'], 'no', data['charges']))\n",
    "\n",
    "    # average cost with children\n",
    "    for children_count in list(range(0, 7)):\n",
    "        average_data['children_averages'].append(average_check(\n",
    "            data['children'], [children_count], data['charges']))\n",
    "\n",
    "    # average cost from region\n",
    "    for region in set(data['region']):\n",
    "        average_data['region_averages'].append(average_check(\n",
    "            data['region'], region, data['charges']))"
   ]
  },
  {
   "cell_type": "markdown",
   "metadata": {},
   "source": [
    "This function will utilize the previous function and store the data in a dictionary for later analysis."
   ]
  },
  {
   "cell_type": "code",
   "execution_count": null,
   "metadata": {},
   "outputs": [],
   "source": [
    "def print_averages():\n",
    "    # average costs of ages\n",
    "    for key, value in average_data.items():\n",
    "        print('The average costs for {key} are: {value}'.format(\n",
    "            key=key, value=value))"
   ]
  },
  {
   "cell_type": "markdown",
   "metadata": {},
   "source": [
    "This function retrieves the data that was stored in the dictionary and prints it to the standard output."
   ]
  },
  {
   "cell_type": "code",
   "execution_count": 5,
   "metadata": {},
   "outputs": [],
   "source": [
    "def parse_data():\n",
    "    # Parse csv data into data dictionary.\n",
    "    with open('insurance.csv') as insurance_data:\n",
    "        data_reader = csv.DictReader(insurance_data)\n",
    "        for row in data_reader:\n",
    "            for column, value in row.items():\n",
    "                data[column].append(value)\n",
    "        # Convert quantitiative data into numerical representations\n",
    "    data['age'] = list(map(int, data['age']))\n",
    "    data['bmi'] = list(map(float, data['bmi']))\n",
    "    data['charges'] = list(map(float, data['charges']))\n",
    "    data['children'] = list(map(int, data['children']))"
   ]
  },
  {
   "cell_type": "markdown",
   "metadata": {},
   "source": [
    "This function parses the csv file for data and converts the numerical/quantitative data into relevant datatypes."
   ]
  },
  {
   "cell_type": "code",
   "execution_count": 6,
   "metadata": {},
   "outputs": [],
   "source": [
    "# Data storage for parsed csv.\n",
    "data = {\n",
    "    'age': [],\n",
    "    'sex': [],\n",
    "    'bmi': [],\n",
    "    'children': [],\n",
    "    'smoker': [],\n",
    "    'region': [],\n",
    "    'charges': [],\n",
    "}"
   ]
  },
  {
   "cell_type": "markdown",
   "metadata": {},
   "source": [
    "The dictionary above is used to store the data parsed by the parse_data function and accessed by the average_check functions passed in store_averages."
   ]
  },
  {
   "cell_type": "code",
   "execution_count": 7,
   "metadata": {},
   "outputs": [],
   "source": [
    "# Variables to hold averages stored by store_averages.\n",
    "average_data = {\n",
    "    'age_averages': [],\n",
    "    'sex_averages': [],\n",
    "    'bmi_averages': [],\n",
    "    'children_averages': [],\n",
    "    'smoking_averages': [],\n",
    "    'region_averages': [],\n",
    "}"
   ]
  },
  {
   "cell_type": "markdown",
   "metadata": {},
   "source": [
    "The variables above are are where the averages are stored by the store_averages function for later analysis."
   ]
  },
  {
   "cell_type": "code",
   "execution_count": 8,
   "metadata": {},
   "outputs": [
    {
     "name": "stdout",
     "output_type": "stream",
     "text": [
      "The average costs for age_averages are: [0, 7086.2175563623205, 9469.075096521734, 11734.532088491378, 14589.201669003984, 16251.265503739825, 21248.021884912272, 0]\n",
      "The average costs for sex_averages are: [13956.751177721886, 13270.422265141257]\n",
      "The average costs for bmi_averages are: [10961.087229, 7778.5103288888895, 13063.883]\n",
      "The average costs for children_averages are: [12365.975601635882, 12731.171831635793, 15073.563733958328, 15355.31836681528, 13850.656311199999, 8786.035247222222, 0]\n",
      "The average costs for smoking_averages are: [32050.23183153285, 8434.268297856199]\n",
      "The average costs for region_averages are: [12346.93737729231, 13406.3845163858, 14735.411437609895, 12417.575373969228]\n"
     ]
    }
   ],
   "source": [
    "parse_data()\n",
    "store_averages()\n",
    "print_averages()"
   ]
  },
  {
   "cell_type": "markdown",
   "metadata": {},
   "source": [
    "Finally, the averages are printed and we can see some correlations."
   ]
  },
  {
   "cell_type": "markdown",
   "metadata": {},
   "source": [
    "## Observations:\n",
    "* An increase in age correlates to an increase in insurance prices.\n",
    "* Males appear to have a higher average than females in terms of insurance costs.\n",
    "* A bmi in the middle correlates lower insurance costs than those on the lower and higher ends.\n",
    "* There appears that rising children correlates with rasing costs.\n",
    "* The southwest region appears to have the highest insurance costs."
   ]
  },
  {
   "cell_type": "code",
   "execution_count": null,
   "metadata": {},
   "outputs": [],
   "source": []
  }
 ],
 "metadata": {
  "kernelspec": {
   "display_name": "Python 3",
   "language": "python",
   "name": "python3"
  },
  "language_info": {
   "codemirror_mode": {
    "name": "ipython",
    "version": 3
   },
   "file_extension": ".py",
   "mimetype": "text/x-python",
   "name": "python",
   "nbconvert_exporter": "python",
   "pygments_lexer": "ipython3",
   "version": "3.7.4"
  }
 },
 "nbformat": 4,
 "nbformat_minor": 4
}
